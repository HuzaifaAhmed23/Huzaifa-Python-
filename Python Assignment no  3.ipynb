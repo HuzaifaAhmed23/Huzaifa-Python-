{
 "cells": [
  {
   "cell_type": "code",
   "execution_count": 1,
   "id": "e01660b6",
   "metadata": {},
   "outputs": [
    {
     "name": "stdout",
     "output_type": "stream",
     "text": [
      "Twinkle, twinkle, little star, \n",
      " \t How I wonder what you are! \n",
      " \t \t Up above the world so high, \n",
      " \t \t Like a diamond in the sky. \n",
      " Twinkle, twinkle, little star, \n",
      " \t How I wonder what you are\n"
     ]
    }
   ],
   "source": [
    "#Question no 1\n",
    "\n",
    "print(\"Twinkle, twinkle, little star, \\n \\t How I wonder what you are! \\n \\t \\t Up above the world so high, \\n \\t \\t Like a diamond in the sky. \\n Twinkle, twinkle, little star, \\n \\t How I wonder what you are\")\n"
   ]
  },
  {
   "cell_type": "code",
   "execution_count": 2,
   "id": "eb66531e",
   "metadata": {},
   "outputs": [
    {
     "name": "stdout",
     "output_type": "stream",
     "text": [
      "Python version\n",
      "3.8.8 (default, Apr 13 2021, 15:08:03) [MSC v.1916 64 bit (AMD64)]\n",
      "Version info.\n",
      "sys.version_info(major=3, minor=8, micro=8, releaselevel='final', serial=0)\n"
     ]
    }
   ],
   "source": [
    "#Question no 2\n",
    "\n",
    "import sys\n",
    "print(\"Python version\")\n",
    "print (sys.version)\n",
    "print(\"Version info.\")\n",
    "print (sys.version_info)"
   ]
  },
  {
   "cell_type": "code",
   "execution_count": 3,
   "id": "041d4a0c",
   "metadata": {},
   "outputs": [
    {
     "name": "stdout",
     "output_type": "stream",
     "text": [
      "2021-10-24 16:11:36.475529\n"
     ]
    }
   ],
   "source": [
    "#Question no 3\n",
    "\n",
    "import datetime\n",
    "x = datetime.datetime.now()\n",
    "print(x)\n"
   ]
  },
  {
   "cell_type": "code",
   "execution_count": 4,
   "id": "55563ef9",
   "metadata": {},
   "outputs": [
    {
     "name": "stdout",
     "output_type": "stream",
     "text": [
      "Input the radius of the circle : 3\n",
      "The area of the circle with radius 3.0 is: 28.274333882308138\n"
     ]
    }
   ],
   "source": [
    "#Question no 4\n",
    "\n",
    "from math import pi\n",
    "r = float(input (\"Input the radius of the circle : \"))\n",
    "print (\"The area of the circle with radius \" + str(r) + \" is: \" + str(pi * r**2))"
   ]
  },
  {
   "cell_type": "code",
   "execution_count": 5,
   "id": "4fe9649a",
   "metadata": {},
   "outputs": [
    {
     "name": "stdout",
     "output_type": "stream",
     "text": [
      "Input your First Name: Huzaifa\n",
      "Input your Last Name :Ahmed\n"
     ]
    },
    {
     "data": {
      "text/plain": [
       "'demhAafiazuH'"
      ]
     },
     "execution_count": 5,
     "metadata": {},
     "output_type": "execute_result"
    }
   ],
   "source": [
    "#Question no 5\n",
    "\n",
    "fname = input(\"Input your First Name: \")\n",
    "lname = input(\"Input your Last Name :\")\n",
    "fullName = fname+lname\n",
    "fullName[::-1]"
   ]
  },
  {
   "cell_type": "code",
   "execution_count": 6,
   "id": "5b196eec",
   "metadata": {},
   "outputs": [
    {
     "name": "stdout",
     "output_type": "stream",
     "text": [
      "enter first number: 75\n",
      "enter second number: 95\n",
      "sum: 170\n"
     ]
    }
   ],
   "source": [
    "#Question no 6\n",
    "\n",
    "a = int(input(\"enter first number: \"))\n",
    "b = int(input(\"enter second number: \"))\n",
    " \n",
    "sum = a + b\n",
    " \n",
    "print(\"sum:\", sum)\n"
   ]
  },
  {
   "cell_type": "code",
   "execution_count": 7,
   "id": "0b82b805",
   "metadata": {},
   "outputs": [
    {
     "name": "stdout",
     "output_type": "stream",
     "text": [
      "Enter marks of the DSA subject: 75\n",
      "Enter marks of the DAAA subject: 69\n",
      "Enter marks of the TOA subject: 84\n",
      "Enter marks of the Arabic subject: 72\n",
      "Enter marks of the LA subject: 81\n",
      "74.4\n",
      "Grade: A\n"
     ]
    }
   ],
   "source": [
    "#Question no 7\n",
    "\n",
    "sub1=int(input(\"Enter marks of the DSA subject: \"))\n",
    "sub2=int(input(\"Enter marks of the DAAA subject: \"))\n",
    "sub3=int(input(\"Enter marks of the TOA subject: \"))\n",
    "sub4=int(input(\"Enter marks of the Arabic subject: \"))\n",
    "sub5=int(input(\"Enter marks of the LA subject: \"))\n",
    "per=(sub1+sub2+sub3+sub4+sub4)/500\n",
    "per = per*100\n",
    "print(per)\n",
    "if(per>=80):\n",
    "    print(\"Grade: A+\")\n",
    "elif(per>=70 and per<80):\n",
    "    print(\"Grade: A\")\n",
    "elif(per>=60 and per<70):\n",
    "    print(\"Grade: B\")\n",
    "elif(per>=50 and per<60):\n",
    "    print(\"Grade: C\")\n",
    "elif(per>=40 and per<50):\n",
    "    print(\"Grade: D\")\n",
    "else:\n",
    "    print(\"Grade: F\")\n",
    "    "
   ]
  },
  {
   "cell_type": "code",
   "execution_count": 8,
   "id": "140d3d35",
   "metadata": {},
   "outputs": [
    {
     "name": "stdout",
     "output_type": "stream",
     "text": [
      "Enter the Number: 54\n",
      "The Given Number is Even\n"
     ]
    }
   ],
   "source": [
    "#Question no 8\n",
    "\n",
    "number = int(input(\"Enter the Number: \"))\n",
    "if number%2==0:\n",
    "    print(\"The Given Number is Even\")\n",
    "else:\n",
    "    print(\"The Given Number is Odd\")"
   ]
  },
  {
   "cell_type": "code",
   "execution_count": 10,
   "id": "7f855881",
   "metadata": {},
   "outputs": [
    {
     "name": "stdout",
     "output_type": "stream",
     "text": [
      "The length of the list is :\n"
     ]
    },
    {
     "data": {
      "text/plain": [
       "10"
      ]
     },
     "execution_count": 10,
     "metadata": {},
     "output_type": "execute_result"
    }
   ],
   "source": [
    "#Question no 9\n",
    "\n",
    "x = [1,3,5,7,7,8,9,11,13,20]\n",
    "print(\"The length of the list is :\")\n",
    "len(x)"
   ]
  },
  {
   "cell_type": "code",
   "execution_count": 2,
   "id": "3839009c",
   "metadata": {},
   "outputs": [
    {
     "name": "stdout",
     "output_type": "stream",
     "text": [
      "How many numbers: 4\n",
      "Enter number 25\n",
      "Enter number 65\n",
      "Enter number 45\n",
      "Enter number 22\n",
      "Sum of elements in given list is :\n"
     ]
    },
    {
     "data": {
      "text/plain": [
       "157"
      ]
     },
     "execution_count": 2,
     "metadata": {},
     "output_type": "execute_result"
    }
   ],
   "source": [
    "#Question no 10\n",
    "\n",
    "lst = []\n",
    "num = int(input('How many numbers: '))\n",
    "for n in range(num):\n",
    "    numbers = int(input('Enter number '))\n",
    "    lst.append(numbers)\n",
    "print(\"Sum of elements in given list is :\")\n",
    "sum(lst)"
   ]
  },
  {
   "cell_type": "code",
   "execution_count": 4,
   "id": "3016e887",
   "metadata": {},
   "outputs": [
    {
     "name": "stdout",
     "output_type": "stream",
     "text": [
      "The Largest element of the list:  104\n"
     ]
    }
   ],
   "source": [
    "#Question no 11\n",
    "\n",
    "list1 = [32,58,104,48,34,54]\n",
    "list1.sort()\n",
    "print(\"The Largest element of the list: \",list1[-1])"
   ]
  },
  {
   "cell_type": "code",
   "execution_count": 5,
   "id": "0a497766",
   "metadata": {},
   "outputs": [
    {
     "name": "stdout",
     "output_type": "stream",
     "text": [
      "[1]\n",
      "[1, 1]\n",
      "[1, 1, 2]\n",
      "[1, 1, 2, 3]\n"
     ]
    }
   ],
   "source": [
    "#Question no 12\n",
    "\n",
    "a = [1, 1, 2, 3, 5, 8, 13, 21, 34, 55, 89]\n",
    "new_items = []\n",
    "for item in a:\n",
    "    if item < 5:\n",
    "        new_items.append(item)\n",
    "        print(new_items)"
   ]
  },
  {
   "cell_type": "code",
   "execution_count": null,
   "id": "1c14b383",
   "metadata": {},
   "outputs": [],
   "source": []
  }
 ],
 "metadata": {
  "kernelspec": {
   "display_name": "Python 3",
   "language": "python",
   "name": "python3"
  },
  "language_info": {
   "codemirror_mode": {
    "name": "ipython",
    "version": 3
   },
   "file_extension": ".py",
   "mimetype": "text/x-python",
   "name": "python",
   "nbconvert_exporter": "python",
   "pygments_lexer": "ipython3",
   "version": "3.8.8"
  }
 },
 "nbformat": 4,
 "nbformat_minor": 5
}
